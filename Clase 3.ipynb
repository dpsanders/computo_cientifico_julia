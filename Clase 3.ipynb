{
 "metadata": {
  "language": "Julia",
  "name": "",
  "signature": "sha256:685a4ace367ef45b82d0a1b11e1f73e22fbc9cae6cd2fb3b519199e08d540324"
 },
 "nbformat": 3,
 "nbformat_minor": 0,
 "worksheets": [
  {
   "cells": [
    {
     "cell_type": "code",
     "collapsed": false,
     "input": [],
     "language": "python",
     "metadata": {},
     "outputs": []
    },
    {
     "cell_type": "code",
     "collapsed": false,
     "input": [
      "type Vector2D\n",
      "    x::Float64\n",
      "    y::Float64\n",
      "end\n",
      "\n",
      "+(a::Vector2D, b::Vector2D) = Vector2D(a.x+b.x, a.y+b.y)\n",
      "\n",
      "import Base.show\n",
      "show(io::IO, a::Vector2D) = print(io, \"[$(a.x), $(a.y)]\")"
     ],
     "language": "python",
     "metadata": {},
     "outputs": [
      {
       "metadata": {},
       "output_type": "pyout",
       "prompt_number": 14,
       "text": [
        "show (generic function with 90 methods)"
       ]
      }
     ],
     "prompt_number": 14
    },
    {
     "cell_type": "code",
     "collapsed": false,
     "input": [
      "v = Vector2D(3, 4)"
     ],
     "language": "python",
     "metadata": {},
     "outputs": [
      {
       "metadata": {},
       "output_type": "pyout",
       "prompt_number": 15,
       "text": [
        "[3.0, 4.0]"
       ]
      }
     ],
     "prompt_number": 15
    },
    {
     "cell_type": "code",
     "collapsed": false,
     "input": [
      "workspace()"
     ],
     "language": "python",
     "metadata": {},
     "outputs": [],
     "prompt_number": 17
    },
    {
     "cell_type": "code",
     "collapsed": false,
     "input": [
      "type Vector2D{T}\n",
      "    x::T\n",
      "    y::T\n",
      "end\n",
      "\n",
      "+(a::Vector2D, b::Vector2D) = Vector2D(a.x+b.x, a.y+b.y)\n",
      "\n",
      "import Base.show\n",
      "show(io::IO, a::Vector2D) = print(io, \"[$(a.x), $(a.y)]\")"
     ],
     "language": "python",
     "metadata": {},
     "outputs": [
      {
       "metadata": {},
       "output_type": "pyout",
       "prompt_number": 1,
       "text": [
        "show (generic function with 90 methods)"
       ]
      }
     ],
     "prompt_number": 1
    },
    {
     "cell_type": "code",
     "collapsed": false,
     "input": [
      "v = Vector2D(3, 4)"
     ],
     "language": "python",
     "metadata": {},
     "outputs": [
      {
       "metadata": {},
       "output_type": "pyout",
       "prompt_number": 2,
       "text": [
        "[3, 4]"
       ]
      }
     ],
     "prompt_number": 2
    },
    {
     "cell_type": "code",
     "collapsed": true,
     "input": [
      "typeof(ans)"
     ],
     "language": "python",
     "metadata": {},
     "outputs": [
      {
       "metadata": {},
       "output_type": "pyout",
       "prompt_number": 3,
       "text": [
        "Vector2D{Int64} (constructor with 1 method)"
       ]
      }
     ],
     "prompt_number": 3
    },
    {
     "cell_type": "code",
     "collapsed": false,
     "input": [
      "w = Vector2D(3.0, 4.0)"
     ],
     "language": "python",
     "metadata": {},
     "outputs": [
      {
       "metadata": {},
       "output_type": "pyout",
       "prompt_number": 4,
       "text": [
        "[3.0, 4.0]"
       ]
      }
     ],
     "prompt_number": 4
    },
    {
     "cell_type": "code",
     "collapsed": false,
     "input": [
      "typeof(w)"
     ],
     "language": "python",
     "metadata": {},
     "outputs": [
      {
       "metadata": {},
       "output_type": "pyout",
       "prompt_number": 5,
       "text": [
        "Vector2D{Float64} (constructor with 1 method)"
       ]
      }
     ],
     "prompt_number": 5
    },
    {
     "cell_type": "code",
     "collapsed": false,
     "input": [
      "w = Vector2D(big(3), big(4))"
     ],
     "language": "python",
     "metadata": {},
     "outputs": [
      {
       "metadata": {},
       "output_type": "pyout",
       "prompt_number": 6,
       "text": [
        "[3, 4]"
       ]
      }
     ],
     "prompt_number": 6
    },
    {
     "cell_type": "code",
     "collapsed": false,
     "input": [
      "typeof(w)"
     ],
     "language": "python",
     "metadata": {},
     "outputs": [
      {
       "metadata": {},
       "output_type": "pyout",
       "prompt_number": 7,
       "text": [
        "Vector2D{BigInt} (constructor with 1 method)"
       ]
      }
     ],
     "prompt_number": 7
    },
    {
     "cell_type": "code",
     "collapsed": false,
     "input": [
      "type Vector2D{T <: Real}\n",
      "    x::T\n",
      "    y::T\n",
      "end\n",
      "\n",
      "+(a::Vector2D, b::Vector2D) = Vector2D(a.x+b.x, a.y+b.y)\n",
      "\n",
      "import Base.show\n",
      "show(io::IO, a::Vector2D) = print(io, \"[$(a.x), $(a.y)]\")"
     ],
     "language": "python",
     "metadata": {},
     "outputs": [
      {
       "metadata": {},
       "output_type": "pyout",
       "prompt_number": 1,
       "text": [
        "show (generic function with 90 methods)"
       ]
      }
     ],
     "prompt_number": 1
    },
    {
     "cell_type": "code",
     "collapsed": false,
     "input": [
      "v = Vector2D(im, im)"
     ],
     "language": "python",
     "metadata": {},
     "outputs": [
      {
       "metadata": {},
       "output_type": "pyout",
       "prompt_number": 2,
       "text": [
        "[im, im]"
       ]
      }
     ],
     "prompt_number": 2
    },
    {
     "cell_type": "code",
     "collapsed": false,
     "input": [
      "super(Float64)"
     ],
     "language": "python",
     "metadata": {},
     "outputs": [
      {
       "metadata": {},
       "output_type": "pyout",
       "prompt_number": 3,
       "text": [
        "FloatingPoint"
       ]
      }
     ],
     "prompt_number": 3
    },
    {
     "cell_type": "code",
     "collapsed": false,
     "input": [
      "super(FloatingPoint)"
     ],
     "language": "python",
     "metadata": {},
     "outputs": [
      {
       "metadata": {},
       "output_type": "pyout",
       "prompt_number": 4,
       "text": [
        "Real"
       ]
      }
     ],
     "prompt_number": 4
    },
    {
     "cell_type": "code",
     "collapsed": false,
     "input": [
      "super(Real)"
     ],
     "language": "python",
     "metadata": {},
     "outputs": [
      {
       "metadata": {},
       "output_type": "pyout",
       "prompt_number": 5,
       "text": [
        "Number"
       ]
      }
     ],
     "prompt_number": 5
    },
    {
     "cell_type": "code",
     "collapsed": false,
     "input": [
      "super(Number)"
     ],
     "language": "python",
     "metadata": {},
     "outputs": [
      {
       "metadata": {},
       "output_type": "pyout",
       "prompt_number": 6,
       "text": [
        "Any"
       ]
      }
     ],
     "prompt_number": 6
    },
    {
     "cell_type": "code",
     "collapsed": false,
     "input": [
      "type Particula\n",
      "    pos::Vector2D{Float64}\n",
      "    vel::Vector2D{Float64}\n",
      "end"
     ],
     "language": "python",
     "metadata": {},
     "outputs": [],
     "prompt_number": 3
    },
    {
     "cell_type": "code",
     "collapsed": false,
     "input": [
      "pos = Vector2D(3., 4.)\n",
      "vel = Vector2D(1., 0.)\n",
      "p = Particula(pos, vel)"
     ],
     "language": "python",
     "metadata": {},
     "outputs": [
      {
       "metadata": {},
       "output_type": "pyout",
       "prompt_number": 4,
       "text": [
        "Particula([3.0, 4.0],[1.0, 0.0])"
       ]
      }
     ],
     "prompt_number": 4
    },
    {
     "cell_type": "code",
     "collapsed": false,
     "input": [
      "p"
     ],
     "language": "python",
     "metadata": {},
     "outputs": [
      {
       "metadata": {},
       "output_type": "pyout",
       "prompt_number": 10,
       "text": [
        "Particula([3.0, 4.0],[1.0, 0.0])"
       ]
      }
     ],
     "prompt_number": 10
    },
    {
     "cell_type": "code",
     "collapsed": false,
     "input": [
      "p.pos"
     ],
     "language": "python",
     "metadata": {},
     "outputs": [
      {
       "metadata": {},
       "output_type": "pyout",
       "prompt_number": 11,
       "text": [
        "[3.0, 4.0]"
       ]
      }
     ],
     "prompt_number": 11
    },
    {
     "cell_type": "code",
     "collapsed": false,
     "input": [
      "p.vel"
     ],
     "language": "python",
     "metadata": {},
     "outputs": [
      {
       "metadata": {},
       "output_type": "pyout",
       "prompt_number": 12,
       "text": [
        "[1.0, 0.0]"
       ]
      }
     ],
     "prompt_number": 12
    },
    {
     "cell_type": "code",
     "collapsed": false,
     "input": [
      "[x^2 for x in 1:5]"
     ],
     "language": "python",
     "metadata": {},
     "outputs": [
      {
       "metadata": {},
       "output_type": "pyout",
       "prompt_number": 18,
       "text": [
        "5-element Array{Int64,1}:\n",
        "  1\n",
        "  4\n",
        "  9\n",
        " 16\n",
        " 25"
       ]
      }
     ],
     "prompt_number": 18
    },
    {
     "cell_type": "code",
     "collapsed": false,
     "input": [
      "type Gas\n",
      "    particulas::Vector{Particula}\n",
      "    \n",
      "    function Gas(n::Integer)\n",
      "        parts = [Particula(Vector2D(rand(), rand()), Vector2D(rand(), rand()))  for i in 1:n]\n",
      "        new(parts)\n",
      "    end\n",
      "    \n",
      "end"
     ],
     "language": "python",
     "metadata": {},
     "outputs": [],
     "prompt_number": 5
    },
    {
     "cell_type": "code",
     "collapsed": false,
     "input": [
      "#g = Gas([Particula(Vector2D(0.,0.), Vector2D(1.,0.))])"
     ],
     "language": "python",
     "metadata": {},
     "outputs": [
      {
       "ename": "LoadError",
       "evalue": "`Gas` has no method matching Gas(::Array{Particula,1})\nwhile loading In[6], in expression starting on line 1",
       "output_type": "pyerr",
       "traceback": [
        "`Gas` has no method matching Gas(::Array{Particula,1})\nwhile loading In[6], in expression starting on line 1",
        ""
       ]
      }
     ],
     "prompt_number": 6
    },
    {
     "cell_type": "code",
     "collapsed": false,
     "input": [
      "g = Gas(3)"
     ],
     "language": "python",
     "metadata": {},
     "outputs": [
      {
       "metadata": {},
       "output_type": "pyout",
       "prompt_number": 7,
       "text": [
        "Gas([Particula([0.15086690390594826, 0.12540805901456942],[0.6097446436204759, 0.7047718739283293]),Particula([0.006474431407802239, 0.6676175494772971],[0.5642028672819457, 0.22580279173812912]),Particula([0.3656228601119478, 0.9886661192877826],[0.32173909488944274, 0.3659824441193309])])"
       ]
      }
     ],
     "prompt_number": 7
    },
    {
     "cell_type": "code",
     "collapsed": false,
     "input": [
      "typeof(ans)"
     ],
     "language": "python",
     "metadata": {},
     "outputs": [
      {
       "metadata": {},
       "output_type": "pyout",
       "prompt_number": 8,
       "text": [
        "Gas (constructor with 1 method)"
       ]
      }
     ],
     "prompt_number": 8
    },
    {
     "cell_type": "code",
     "collapsed": false,
     "input": [
      "type Gas\n",
      "    particulas::Vector{Particula}\n",
      "    \n",
      "    function Gas(n::Integer)\n",
      "        parts = [Particula(Vector2D(rand(2)...), Vector2D(rand(2)...))  for i in 1:n]\n",
      "    end\n",
      "    \n",
      "end"
     ],
     "language": "python",
     "metadata": {},
     "outputs": [],
     "prompt_number": 23
    },
    {
     "cell_type": "code",
     "collapsed": false,
     "input": [
      "g = Gas(10)"
     ],
     "language": "python",
     "metadata": {},
     "outputs": [
      {
       "metadata": {},
       "output_type": "pyout",
       "prompt_number": 24,
       "text": [
        "10-element Array{Particula,1}:\n",
        " Particula([0.18330449847601793, 0.5534075937927414],[0.40300207976690805, 0.5791364900144791]) \n",
        " Particula([0.8051550408067338, 0.8747876983056189],[0.36085151477718, 0.5115474523826884])     \n",
        " Particula([0.09572194256592859, 0.10039510877413127],[0.46401407795819605, 0.8204212576771179])\n",
        " Particula([0.5904345375355855, 0.5008223335852429],[0.42633518248302127, 0.6307046756005956])  \n",
        " Particula([0.9814812301054443, 0.9443584494687145],[0.6104898469450841, 0.9746136409681347])   \n",
        " Particula([0.8440321426640023, 0.25186632037163803],[0.6819860779175557, 0.5772922913247478])  \n",
        " Particula([0.35705881899503367, 0.18300292873574087],[0.8121331044940543, 0.9678069941869032]) \n",
        " Particula([0.698010706228374, 0.17253992842528332],[0.7387884916598171, 0.383922486694372])    \n",
        " Particula([0.24592444035375904, 0.9680474674634072],[0.6959086646395847, 0.6627275500345229])  \n",
        " Particula([0.5651724439353185, 0.7024103825024726],[0.8733431487951284, 0.0739268613123194])   "
       ]
      }
     ],
     "prompt_number": 24
    },
    {
     "cell_type": "code",
     "collapsed": false,
     "input": [
      "p"
     ],
     "language": "python",
     "metadata": {},
     "outputs": [
      {
       "metadata": {},
       "output_type": "pyout",
       "prompt_number": 25,
       "text": [
        "Particula([3.0, 4.0],[1.0, 0.0])"
       ]
      }
     ],
     "prompt_number": 25
    },
    {
     "cell_type": "code",
     "collapsed": false,
     "input": [
      "function mover(p::Particula, dt::Real)\n",
      "    p.pos += p.vel*dt\n",
      "end"
     ],
     "language": "python",
     "metadata": {},
     "outputs": [
      {
       "metadata": {},
       "output_type": "pyout",
       "prompt_number": 9,
       "text": [
        "mover (generic function with 1 method)"
       ]
      }
     ],
     "prompt_number": 9
    },
    {
     "cell_type": "code",
     "collapsed": false,
     "input": [
      "mover(p, 0.1)"
     ],
     "language": "python",
     "metadata": {},
     "outputs": [
      {
       "ename": "LoadError",
       "evalue": "`*` has no method matching *(::Vector2D{Float64}, ::Float64)\nwhile loading In[27], in expression starting on line 1",
       "output_type": "pyerr",
       "traceback": [
        "`*` has no method matching *(::Vector2D{Float64}, ::Float64)\nwhile loading In[27], in expression starting on line 1",
        "",
        " in mover at In[26]:2"
       ]
      }
     ],
     "prompt_number": 27
    },
    {
     "cell_type": "code",
     "collapsed": false,
     "input": [
      "*(v::Vector2D, a::Float64) = Vector2D(v.x*a, v.y*a)"
     ],
     "language": "python",
     "metadata": {},
     "outputs": [
      {
       "metadata": {},
       "output_type": "pyout",
       "prompt_number": 10,
       "text": [
        "* (generic function with 127 methods)"
       ]
      }
     ],
     "prompt_number": 10
    },
    {
     "cell_type": "code",
     "collapsed": false,
     "input": [
      "mover(p, 0.1)"
     ],
     "language": "python",
     "metadata": {},
     "outputs": [
      {
       "metadata": {},
       "output_type": "pyout",
       "prompt_number": 11,
       "text": [
        "[3.1, 4.0]"
       ]
      }
     ],
     "prompt_number": 11
    },
    {
     "cell_type": "code",
     "collapsed": false,
     "input": [
      "function mover(g::Gas, dt)\n",
      "    for p in g.particulas\n",
      "        mover(p, dt)\n",
      "        #println(p)\n",
      "    end \n",
      "end"
     ],
     "language": "python",
     "metadata": {},
     "outputs": [
      {
       "metadata": {},
       "output_type": "pyout",
       "prompt_number": 15,
       "text": [
        "mover (generic function with 2 methods)"
       ]
      }
     ],
     "prompt_number": 15
    },
    {
     "cell_type": "code",
     "collapsed": false,
     "input": [
      "g = Gas(2)"
     ],
     "language": "python",
     "metadata": {},
     "outputs": [
      {
       "metadata": {},
       "output_type": "pyout",
       "prompt_number": 16,
       "text": [
        "Gas([Particula([0.5127292884924608, 0.9074403059044482],[0.827092632494046, 0.15840543401403528]),Particula([0.5774638397187803, 0.7896306234955917],[0.7208593735832494, 0.09087939828901592])])"
       ]
      }
     ],
     "prompt_number": 16
    },
    {
     "cell_type": "code",
     "collapsed": false,
     "input": [
      "mover(g, 0.1)\n",
      "g"
     ],
     "language": "python",
     "metadata": {},
     "outputs": [
      {
       "metadata": {},
       "output_type": "pyout",
       "prompt_number": 18,
       "text": [
        "Gas([Particula([0.6781478149912701, 0.9391213927072553],[0.827092632494046, 0.15840543401403528]),Particula([0.7216357144354302, 0.8078065031533948],[0.7208593735832494, 0.09087939828901592])])"
       ]
      }
     ],
     "prompt_number": 18
    },
    {
     "cell_type": "code",
     "collapsed": false,
     "input": [
      "typeof(g)"
     ],
     "language": "python",
     "metadata": {},
     "outputs": [
      {
       "metadata": {},
       "output_type": "pyout",
       "prompt_number": 40,
       "text": [
        "Array{Particula,1}"
       ]
      }
     ],
     "prompt_number": 40
    },
    {
     "cell_type": "code",
     "collapsed": false,
     "input": [
      "g = Gas(2)\n",
      "g2 = Gas(2)"
     ],
     "language": "python",
     "metadata": {},
     "outputs": [
      {
       "metadata": {},
       "output_type": "pyout",
       "prompt_number": 19,
       "text": [
        "Gas([Particula([0.9805466387830957, 0.8182226955231988],[0.18784765498108924, 0.2740998754040669]),Particula([0.5314429884183312, 0.2961401211366119],[0.1832300444095627, 0.60635581343866])])"
       ]
      }
     ],
     "prompt_number": 19
    },
    {
     "cell_type": "code",
     "collapsed": false,
     "input": [
      "mover(g, 1.)\n",
      "mover(g2, 1.)"
     ],
     "language": "python",
     "metadata": {},
     "outputs": [],
     "prompt_number": 22
    },
    {
     "cell_type": "heading",
     "level": 1,
     "metadata": {},
     "source": [
      "Movimiento Browniano"
     ]
    },
    {
     "cell_type": "code",
     "collapsed": false,
     "input": [
      "type Vector2D\n",
      "    x::Float64\n",
      "    y::Float64\n",
      "end\n",
      "\n",
      "\n",
      "\n",
      "+(a::Vector2D, b::Vector2D) = Vector2D(a.x+b.x, a.y+b.y)\n",
      "\n",
      "import Base.show\n",
      "show(io::IO, a::Vector2D) = print(io, \"[$(a.x), $(a.y)]\")\n",
      "\n"
     ],
     "language": "python",
     "metadata": {},
     "outputs": [
      {
       "metadata": {},
       "output_type": "pyout",
       "prompt_number": 1,
       "text": [
        "show (generic function with 90 methods)"
       ]
      }
     ],
     "prompt_number": 1
    },
    {
     "cell_type": "code",
     "collapsed": false,
     "input": [
      "type Caminante\n",
      "    pos::Vector2D\n",
      "end\n",
      "\n",
      "Caminante(x, y) = Caminante(Vector2D(x,y))"
     ],
     "language": "python",
     "metadata": {},
     "outputs": [
      {
       "metadata": {},
       "output_type": "pyout",
       "prompt_number": 5,
       "text": [
        "Caminante (constructor with 3 methods)"
       ]
      }
     ],
     "prompt_number": 5
    },
    {
     "cell_type": "code",
     "collapsed": false,
     "input": [
      "c = Caminante(3, 4)"
     ],
     "language": "python",
     "metadata": {},
     "outputs": [
      {
       "metadata": {},
       "output_type": "pyout",
       "prompt_number": 6,
       "text": [
        "Caminante([3.0, 4.0])"
       ]
      }
     ],
     "prompt_number": 6
    },
    {
     "cell_type": "code",
     "collapsed": false,
     "input": [
      "desplazar!(c::Caminante) = c.pos += Vector2D(randn(2)...)"
     ],
     "language": "python",
     "metadata": {},
     "outputs": [
      {
       "metadata": {},
       "output_type": "pyout",
       "prompt_number": 8,
       "text": [
        "desplazar! (generic function with 1 method)"
       ]
      }
     ],
     "prompt_number": 8
    },
    {
     "cell_type": "code",
     "collapsed": false,
     "input": [
      "desplazar!(c)\n",
      "c"
     ],
     "language": "python",
     "metadata": {},
     "outputs": [
      {
       "metadata": {},
       "output_type": "pyout",
       "prompt_number": 30,
       "text": [
        "Caminante([5.371689063791514, 5.20357830630476])"
       ]
      }
     ],
     "prompt_number": 30
    },
    {
     "cell_type": "code",
     "collapsed": false,
     "input": [
      "posiciones = Vector2D[]"
     ],
     "language": "python",
     "metadata": {},
     "outputs": [
      {
       "metadata": {},
       "output_type": "pyout",
       "prompt_number": 31,
       "text": [
        "0-element Array{Vector2D,1}"
       ]
      }
     ],
     "prompt_number": 31
    },
    {
     "cell_type": "code",
     "collapsed": false,
     "input": [
      "for i in 1:100\n",
      "    push!(posiciones, c.pos)\n",
      "    desplazar!(c)\n",
      "end"
     ],
     "language": "python",
     "metadata": {},
     "outputs": [],
     "prompt_number": 32
    },
    {
     "cell_type": "code",
     "collapsed": false,
     "input": [
      "posiciones"
     ],
     "language": "python",
     "metadata": {},
     "outputs": [
      {
       "metadata": {},
       "output_type": "pyout",
       "prompt_number": 33,
       "text": [
        "100-element Array{Vector2D,1}:\n",
        " [5.371689063791514, 5.20357830630476]  \n",
        " [6.811393008647271, 5.289200952117155] \n",
        " [4.939565377121553, 5.586250549642926] \n",
        " [4.865272714012567, 6.819633122608275] \n",
        " [5.119394304748668, 7.12908732611334]  \n",
        " [3.592418665991133, 7.197292318434531] \n",
        " [3.2447451734942683, 9.836021600485967]\n",
        " [3.350338017550084, 11.883051590400695]\n",
        " [2.398404760410334, 12.724088480960623]\n",
        " [3.383208943654615, 13.399994822624855]\n",
        " [4.515243103550311, 13.233651408100078]\n",
        " [6.260400894702573, 12.542815455447357]\n",
        " [6.559426151338158, 13.224231691285922]\n",
        " \u22ee                                      \n",
        " [14.001169598353826, 4.449011218060895]\n",
        " [12.953120163675754, 4.338173993658834]\n",
        " [11.443997315949373, 5.696855813491771]\n",
        " [9.476443396353865, 5.885191437046964] \n",
        " [10.469829465435264, 5.597865203332977]\n",
        " [9.948479549596744, 5.536654197611894] \n",
        " [10.154276854594652, 6.688564871114129]\n",
        " [9.317010118966264, 6.377891595568045] \n",
        " [8.912892140781782, 5.598358636764868] \n",
        " [10.77571568424662, 4.572103337249587] \n",
        " [9.933982703695209, 4.612312926173769] \n",
        " [9.775092365930883, 4.299956331924265] "
       ]
      }
     ],
     "prompt_number": 33
    },
    {
     "cell_type": "code",
     "collapsed": false,
     "input": [
      "using PyPlot"
     ],
     "language": "python",
     "metadata": {},
     "outputs": [
      {
       "output_type": "stream",
       "stream": "stderr",
       "text": [
        "INFO: Loading help data...\n"
       ]
      }
     ],
     "prompt_number": 34
    },
    {
     "cell_type": "code",
     "collapsed": false,
     "input": [
      "v = Vector2D(3, 4)"
     ],
     "language": "python",
     "metadata": {},
     "outputs": [
      {
       "metadata": {},
       "output_type": "pyout",
       "prompt_number": 35,
       "text": [
        "[3.0, 4.0]"
       ]
      }
     ],
     "prompt_number": 35
    },
    {
     "cell_type": "code",
     "collapsed": false,
     "input": [
      "v[1]"
     ],
     "language": "python",
     "metadata": {},
     "outputs": [
      {
       "ename": "LoadError",
       "evalue": "`getindex` has no method matching getindex(::Vector2D, ::Int64)\nwhile loading In[36], in expression starting on line 1",
       "output_type": "pyerr",
       "traceback": [
        "`getindex` has no method matching getindex(::Vector2D, ::Int64)\nwhile loading In[36], in expression starting on line 1",
        ""
       ]
      }
     ],
     "prompt_number": 36
    },
    {
     "cell_type": "code",
     "collapsed": false,
     "input": [
      "v.x"
     ],
     "language": "python",
     "metadata": {},
     "outputs": [
      {
       "metadata": {},
       "output_type": "pyout",
       "prompt_number": 37,
       "text": [
        "3.0"
       ]
      }
     ],
     "prompt_number": 37
    },
    {
     "cell_type": "code",
     "collapsed": false,
     "input": [
      "xs = [v.x for v in posiciones]\n",
      "ys = [v.y for v in posiciones]"
     ],
     "language": "python",
     "metadata": {},
     "outputs": [
      {
       "metadata": {},
       "output_type": "pyout",
       "prompt_number": 38,
       "text": [
        "100-element Array{Any,1}:\n",
        "  5.20358\n",
        "  5.2892 \n",
        "  5.58625\n",
        "  6.81963\n",
        "  7.12909\n",
        "  7.19729\n",
        "  9.83602\n",
        " 11.8831 \n",
        " 12.7241 \n",
        " 13.4    \n",
        " 13.2337 \n",
        " 12.5428 \n",
        " 13.2242 \n",
        "  \u22ee      \n",
        "  4.44901\n",
        "  4.33817\n",
        "  5.69686\n",
        "  5.88519\n",
        "  5.59787\n",
        "  5.53665\n",
        "  6.68856\n",
        "  6.37789\n",
        "  5.59836\n",
        "  4.5721 \n",
        "  4.61231\n",
        "  4.29996"
       ]
      }
     ],
     "prompt_number": 38
    },
    {
     "cell_type": "code",
     "collapsed": false,
     "input": [
      "plot(xs, ys)"
     ],
     "language": "python",
     "metadata": {},
     "outputs": [
      {
       "metadata": {},
       "output_type": "display_data",
       "png": "[encoded data removed]",
       "text": [
        "Figure(PyObject <matplotlib.figure.Figure object at 0x10bcdb090>)"
       ]
      },
      {
       "metadata": {},
       "output_type": "pyout",
       "prompt_number": 39,
       "text": [
        "1-element Array{Any,1}:\n",
        " PyObject <matplotlib.lines.Line2D object at 0x10afd2210>"
       ]
      }
     ],
     "prompt_number": 39
    },
    {
     "cell_type": "code",
     "collapsed": false,
     "input": [
      "mean(posiciones)"
     ],
     "language": "python",
     "metadata": {},
     "outputs": [
      {
       "ename": "LoadError",
       "evalue": "`/` has no method matching /(::Vector2D, ::Int64)\nwhile loading In[40], in expression starting on line 1",
       "output_type": "pyerr",
       "traceback": [
        "`/` has no method matching /(::Vector2D, ::Int64)\nwhile loading In[40], in expression starting on line 1",
        "",
        " in mean at statistics.jl:17"
       ]
      }
     ],
     "prompt_number": 40
    },
    {
     "cell_type": "code",
     "collapsed": false,
     "input": [
      "@which mean(posiciones)"
     ],
     "language": "python",
     "metadata": {},
     "outputs": [
      {
       "html": [
        "mean(A::<b>AbstractArray{T,N}</b>) at <a href=\"https://github.com/JuliaLang/julia/tree/a3e7c045c9101e58626661954c0e55258d9fea05/base/statistics.jl#L17\" target=\"_blank\">statistics.jl:17</a>"
       ],
       "metadata": {},
       "output_type": "pyout",
       "prompt_number": 41,
       "text": [
        "mean(A::AbstractArray{T,N}) at statistics.jl:17"
       ]
      }
     ],
     "prompt_number": 41
    },
    {
     "cell_type": "code",
     "collapsed": false,
     "input": [
      "@which sum(posiciones)"
     ],
     "language": "python",
     "metadata": {},
     "outputs": [
      {
       "html": [
        "sum(a) at <a href=\"https://github.com/JuliaLang/julia/tree/a3e7c045c9101e58626661954c0e55258d9fea05/base/reduce.jl#L234\" target=\"_blank\">reduce.jl:234</a>"
       ],
       "metadata": {},
       "output_type": "pyout",
       "prompt_number": 42,
       "text": [
        "sum(a) at reduce.jl:234"
       ]
      }
     ],
     "prompt_number": 42
    },
    {
     "cell_type": "code",
     "collapsed": false,
     "input": [
      "/(v::Vector2D, a::Number) = Vector2D(v.x/a, v.y/a)"
     ],
     "language": "python",
     "metadata": {},
     "outputs": [
      {
       "metadata": {},
       "output_type": "pyout",
       "prompt_number": 43,
       "text": [
        "/ (generic function with 53 methods)"
       ]
      }
     ],
     "prompt_number": 43
    },
    {
     "cell_type": "code",
     "collapsed": false,
     "input": [
      "mean(posiciones)"
     ],
     "language": "python",
     "metadata": {},
     "outputs": [
      {
       "metadata": {},
       "output_type": "pyout",
       "prompt_number": 44,
       "text": [
        "[11.024129743912534, 8.59588257289472]"
       ]
      }
     ],
     "prompt_number": 44
    },
    {
     "cell_type": "code",
     "collapsed": false,
     "input": [
      "c = Caminante(0,0)"
     ],
     "language": "python",
     "metadata": {},
     "outputs": [
      {
       "metadata": {},
       "output_type": "pyout",
       "prompt_number": 45,
       "text": [
        "Caminante([0.0, 0.0])"
       ]
      }
     ],
     "prompt_number": 45
    },
    {
     "cell_type": "code",
     "collapsed": false,
     "input": [
      "posiciones = [c.pos]\n",
      "\n",
      "for i in 1:1000\n",
      "    desplazar!(c)\n",
      "    push!(posiciones, c.pos)\n",
      "end"
     ],
     "language": "python",
     "metadata": {},
     "outputs": [],
     "prompt_number": 46
    },
    {
     "cell_type": "code",
     "collapsed": false,
     "input": [
      "mean(posiciones)"
     ],
     "language": "python",
     "metadata": {},
     "outputs": [
      {
       "metadata": {},
       "output_type": "pyout",
       "prompt_number": 48,
       "text": [
        "[-8.457253678351996, -8.507898385384207]"
       ]
      }
     ],
     "prompt_number": 48
    },
    {
     "cell_type": "code",
     "collapsed": false,
     "input": [
      "plot([v.x for v in posiciones], [v.y for v in posiciones])"
     ],
     "language": "python",
     "metadata": {},
     "outputs": [
      {
       "metadata": {},
       "output_type": "display_data",
       "png": "[encoded data removed]",
       "text": [
        "Figure(PyObject <matplotlib.figure.Figure object at 0x10afb6f50>)"
       ]
      },
      {
       "metadata": {},
       "output_type": "pyout",
       "prompt_number": 49,
       "text": [
        "1-element Array{Any,1}:\n",
        " PyObject <matplotlib.lines.Line2D object at 0x103361150>"
       ]
      }
     ],
     "prompt_number": 49
    },
    {
     "cell_type": "code",
     "collapsed": false,
     "input": [],
     "language": "python",
     "metadata": {},
     "outputs": []
    }
   ],
   "metadata": {}
  }
 ]
}