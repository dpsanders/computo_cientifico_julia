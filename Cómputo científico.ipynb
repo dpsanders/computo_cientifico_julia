{
 "metadata": {
  "celltoolbar": "Slideshow",
  "language": "Julia",
  "name": "",
  "signature": "sha256:3c3f3767204defe776019cca57894eea0340ef4fb6af789ecf1ede979db91faa"
 },
 "nbformat": 3,
 "nbformat_minor": 0,
 "worksheets": [
  {
   "cells": [
    {
     "cell_type": "markdown",
     "metadata": {
      "slideshow": {
       "slide_type": "slide"
      }
     },
     "source": [
      "# C\u00f3mputo cient\u00edfico con Julia\n",
      "\n",
      "## Dr. David P. Sanders\n",
      "\n",
      "\n",
      "## Departamento de F\u00edsica, Facultad de Ciencias\n",
      "## Universidad Nacional Aut\u00f3noma de M\u00e9xico"
     ]
    },
    {
     "cell_type": "heading",
     "level": 1,
     "metadata": {
      "slideshow": {
       "slide_type": "slide"
      }
     },
     "source": [
      "\u00bfPor qu\u00e9 est\u00e1n aqu\u00ed ustedes?"
     ]
    },
    {
     "cell_type": "markdown",
     "metadata": {
      "slideshow": {
       "slide_type": "slide"
      }
     },
     "source": [
      "# \u00bfPor qu\u00e9 estoy aqu\u00ed?"
     ]
    },
    {
     "cell_type": "markdown",
     "metadata": {
      "slideshow": {
       "slide_type": "slide"
      }
     },
     "source": [
      "# Desarrollos recientes:\n",
      "\n",
      "- **Reproducible Research** (Investigaci\u00f3n reproducible)\n",
      "\n",
      "\n",
      "- **Software y plataformas nuevos**\n",
      "\n",
      "    - **IPython Notebook** (entorno interactivo para c\u00f3mputo cient\u00edfico)\n",
      "\n",
      "    - **Julia** (lenguaje de programaci\u00f3n nuevo para el c\u00f3mputo cient\u00edfico)\n",
      "\n",
      "    - **GitHub**  (plataforma para desarrollo de software)\n",
      "\n",
      "    - **git**  (software de control de versiones)\n",
      "\n"
     ]
    }
   ],
   "metadata": {}
  }
 ]
}